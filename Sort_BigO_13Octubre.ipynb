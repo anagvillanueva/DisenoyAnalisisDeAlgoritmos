{
  "nbformat": 4,
  "nbformat_minor": 0,
  "metadata": {
    "colab": {
      "name": "Sort_BigO-13Octubre.ipynb",
      "provenance": [],
      "collapsed_sections": [],
      "include_colab_link": true
    },
    "kernelspec": {
      "name": "python3",
      "display_name": "Python 3"
    },
    "language_info": {
      "name": "python"
    }
  },
  "cells": [
    {
      "cell_type": "markdown",
      "metadata": {
        "id": "view-in-github",
        "colab_type": "text"
      },
      "source": [
        "<a href=\"https://colab.research.google.com/github/anagvillanueva/DisenoyAnalisisDeAlgoritmos/blob/master/Sort_BigO_13Octubre.ipynb\" target=\"_parent\"><img src=\"https://colab.research.google.com/assets/colab-badge.svg\" alt=\"Open In Colab\"/></a>"
      ]
    },
    {
      "cell_type": "code",
      "metadata": {
        "colab": {
          "base_uri": "https://localhost:8080/"
        },
        "id": "TQAEHB9yRTiX",
        "outputId": "d0c08700-81ac-4032-c8c8-bd4108314bdb"
      },
      "source": [
        "#info = [8,5,9,3]\n",
        "info = [6568,5,9,3,4,64,342,34,56,72,12,33,3434,54,0,35,4]\n",
        "# range(<inicio>, <stop>,<incremento>)\n",
        "# range( 3,0,-1)\n",
        "# intercambio -->   a , b = b  , a\n",
        "\n",
        "def burbuja( data ):          #M O(n)    P  O(1)\n",
        "    tam = len(data)           #M O(n)    P  O(1)\n",
        "    for tope in range(tam-1,0,-1):   #M O(1)    P O(na)\n",
        "        for pivote in range(tope):   #M O(1)    P O(na)\n",
        "            if data[pivote] > data[ pivote +1 ]:\n",
        "                data[pivote],data[pivote + 1] =data[pivote+1],data[pivote] \n",
        "                                     #M O(0)    P O(2n^2)\n",
        "    return data                      #M O(0)    P O(1)\n",
        "                                     #M O(n)    P O(n^2)\n",
        "\n",
        "print (burbuja( info ))\n",
        "# O(340)  P O(15)\n",
        "# O(n)    P O(3n)\n",
        "# O(n)    P O(n^2)\n",
        "print (len(info))"
      ],
      "execution_count": null,
      "outputs": [
        {
          "output_type": "stream",
          "name": "stdout",
          "text": [
            "[0, 3, 4, 4, 5, 9, 12, 33, 34, 35, 54, 56, 64, 72, 342, 3434, 6568]\n",
            "17\n"
          ]
        }
      ]
    },
    {
      "cell_type": "markdown",
      "metadata": {
        "id": "yjIwViD7KGj0"
      },
      "source": [
        ""
      ]
    },
    {
      "cell_type": "markdown",
      "metadata": {
        "id": "ClakO60iW3RT"
      },
      "source": [
        "Selection sort"
      ]
    },
    {
      "cell_type": "code",
      "metadata": {
        "id": "08klBjI8W2K0"
      },
      "source": [
        "def selection_sort(data):                               #M O(n)    P O(1)\n",
        "  for pivote in rage(len(data)):                        #M O(1)    P O(na)\n",
        "    min = pivote                                        #M O(1)    P O(1 * n) = (n) Porque esta afectado por el for\n",
        "    for index in range(pivote, len(data), 1):           #M O(1)    P O(na)\n",
        "      if data[index] < data[min]:                       #M O(n)    P O(na)\n",
        "          min = index                                   #M O(0)    P O(n^2)\n",
        "    data[pivote], data[min] = data[min], data[pivote]   #M O(0)    P O(2n)\n",
        "    print                                               #M O(0)    P O(0)\n",
        "  return data                                           #M O(0)    P O(1)\n",
        "                                                        #M O(n + 1 + 1 + 1)    P O(1 + n + n^2 + 2n +1)\n",
        "                                                        #M O(n + 3)            P O(n^2 + n)\n",
        "                                                        #M O(n)                P O(n^2)\n",
        "info = [8,5,9,3]\n",
        "print (selection_sort(info))"
      ],
      "execution_count": null,
      "outputs": []
    },
    {
      "cell_type": "markdown",
      "metadata": {
        "id": "yHZsxEHRzs2D"
      },
      "source": [
        "# Insertion Sort\n",
        "Como cuando juegas cartas\n"
      ]
    },
    {
      "cell_type": "code",
      "metadata": {
        "id": "wFtnLgSsKIGe"
      },
      "source": [
        "def insertion_sort(data): # M O(n) P O(1)\n",
        "  print(f\"original{data}\") # M O(0) P O(1)\n",
        "  for pivote in range(1,len(data),1): # M O(1) P O(na)\n",
        "    for index in range(0,pivote+1,1): # M O(1) P O(na)\n",
        "      if data[pivote] < data[index]: # M O(0) P O(na)\n",
        "        tmp = data[pivote] # M O(1) P O(n)\n",
        "        for i in range(pivote,index,-1): # M O(1) P O(na)\n",
        "          data[i] = data[i-1] # M O(0) P O(n*m)\n",
        "        data[index] = tmp # M O(0) P O(n)\n",
        "  return data # M O(0) P O(1)\n",
        "\n",
        "# M O(n+4) P O(4+2n+n*m)\n",
        "# M O(n) P O(n^2)\n",
        "\n",
        "info = [10,51,2,18,4,31,12,5]\n",
        "print(insertion_sort(info))"
      ],
      "execution_count": null,
      "outputs": []
    }
  ]
}