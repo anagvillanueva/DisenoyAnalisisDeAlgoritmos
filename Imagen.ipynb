{
  "nbformat": 4,
  "nbformat_minor": 0,
  "metadata": {
    "colab": {
      "name": "Imagen.ipynb",
      "provenance": [],
      "authorship_tag": "ABX9TyNSnbhiVxRoUI53sO4Z+L0o",
      "include_colab_link": true
    },
    "kernelspec": {
      "name": "python3",
      "display_name": "Python 3"
    },
    "language_info": {
      "name": "python"
    }
  },
  "cells": [
    {
      "cell_type": "markdown",
      "metadata": {
        "id": "view-in-github",
        "colab_type": "text"
      },
      "source": [
        "<a href=\"https://colab.research.google.com/github/anagvillanueva/DisenoyAnalisisDeAlgoritmos/blob/master/Imagen.ipynb\" target=\"_parent\"><img src=\"https://colab.research.google.com/assets/colab-badge.svg\" alt=\"Open In Colab\"/></a>"
      ]
    },
    {
      "cell_type": "code",
      "metadata": {
        "colab": {
          "base_uri": "https://localhost:8080/",
          "height": 353
        },
        "id": "pzB2YOvY4j0o",
        "outputId": "26a54e2e-2947-4299-9428-27606f4ab790"
      },
      "source": [
        "from matplotlib import pyplot as plt\n",
        "import random\n",
        "import math\n",
        "\n",
        "pares = []\n",
        "for i in range(30):\n",
        "    pares.append( [ random.randint(1,100) , random.randint(1,100) ] )\n",
        "print(pares)\n",
        "\n",
        "for par in pares:\n",
        "    plt.scatter(par[0],par[1] , s=3 ,c=\"b\"  )\n",
        "#resultado = math.sqrt((pow(((x2-x1)),2))+(pow(((y2-y1)),2)))\n",
        "\n",
        "def distancia( p1 , p2): #pares\n",
        "    dis = math.sqrt((pow(((p2[0]-p1[0])),2))+(pow(((p2[1]-p1[1])),2)))\n",
        "    return dis\n",
        "\n",
        "print(distancia ( [32 , 96] , [68 , 90] ) )\n",
        "\n",
        "menor = 99999\n",
        "d = 0\n",
        "par_menor = []\n",
        "\n",
        "for i in range( len(pares) ):\n",
        "    for j in range(len (pares) ):\n",
        "        d = distancia( pares[i] , pares[j] )\n",
        "        if d < menor and d != 0.0:\n",
        "            menor = d\n",
        "            par_menor.clear()\n",
        "            par_menor.append( pares[i] )\n",
        "            par_menor.append( pares[j] )\n",
        "\n",
        "print(menor)\n",
        "print( par_menor[0] , par_menor[1] )"
      ],
      "execution_count": 1,
      "outputs": [
        {
          "output_type": "stream",
          "name": "stdout",
          "text": [
            "[[41, 83], [72, 44], [89, 35], [100, 46], [26, 77], [54, 12], [12, 84], [86, 80], [3, 5], [73, 73], [75, 38], [40, 31], [76, 57], [97, 40], [12, 92], [14, 5], [89, 57], [29, 55], [4, 10], [11, 62], [2, 66], [59, 8], [4, 73], [67, 79], [94, 12], [13, 19], [89, 67], [5, 90], [87, 33], [19, 71]]\n",
            "36.49657518178932\n",
            "2.8284271247461903\n",
            "[89, 35] [87, 33]\n"
          ]
        },
        {
          "output_type": "display_data",
          "data": {
            "image/png": "[encoded data removed]",
            "text/plain": [
              "<Figure size 432x288 with 1 Axes>"
            ]
          },
          "metadata": {
            "needs_background": "light"
          }
        }
      ]
    }
  ]
}