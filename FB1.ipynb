{
  "nbformat": 4,
  "nbformat_minor": 0,
  "metadata": {
    "colab": {
      "name": "FB1.ipynb",
      "provenance": [],
      "authorship_tag": "ABX9TyNwLXT0tKRu6jSMU+6bHUyv",
      "include_colab_link": true
    },
    "kernelspec": {
      "name": "python3",
      "display_name": "Python 3"
    },
    "language_info": {
      "name": "python"
    }
  },
  "cells": [
    {
      "cell_type": "markdown",
      "metadata": {
        "id": "view-in-github",
        "colab_type": "text"
      },
      "source": [
        "<a href=\"https://colab.research.google.com/github/anagvillanueva/DisenoyAnalisisDeAlgoritmos/blob/master/FB1.ipynb\" target=\"_parent\"><img src=\"https://colab.research.google.com/assets/colab-badge.svg\" alt=\"Open In Colab\"/></a>"
      ]
    },
    {
      "cell_type": "markdown",
      "metadata": {
        "id": "1D1r6oAJrxnA"
      },
      "source": [
        "# **Fuerza** **Bruta**"
      ]
    },
    {
      "cell_type": "code",
      "metadata": {
        "colab": {
          "base_uri": "https://localhost:8080/"
        },
        "id": "cmoT6oZ_rwlB",
        "outputId": "316037bc-1743-42b7-96f2-66291a8b44a0"
      },
      "source": [
        "def string_match_brute(A,P):\n",
        "    for i in range(len(A) - len(P) + 1):\n",
        "        for j in range(len(P)):\n",
        "            if P[j] == A[i +j ]:\n",
        "                pass\n",
        "            else: \n",
        "                break \n",
        "        if j + 1 == len(P) and A[i+j] == P[j]:\n",
        "            print(f'se encontro la posicion: {i}')\n",
        "\n",
        "entrada = \"0011100101011011101101\"\n",
        "patron = \"01101\"\n",
        "string_match_brute(entrada,patron)"
      ],
      "execution_count": 1,
      "outputs": [
        {
          "output_type": "stream",
          "name": "stdout",
          "text": [
            "se encontro la posicion: 10\n",
            "se encontro la posicion: 17\n"
          ]
        }
      ]
    }
  ]
}