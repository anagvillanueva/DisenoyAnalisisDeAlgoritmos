{
  "nbformat": 4,
  "nbformat_minor": 0,
  "metadata": {
    "colab": {
      "name": "Tarea7",
      "provenance": [],
      "authorship_tag": "ABX9TyNTIXlDS1LyDHrLO5zMUdYi",
      "include_colab_link": true
    },
    "kernelspec": {
      "name": "python3",
      "display_name": "Python 3"
    },
    "language_info": {
      "name": "python"
    }
  },
  "cells": [
    {
      "cell_type": "markdown",
      "metadata": {
        "id": "view-in-github",
        "colab_type": "text"
      },
      "source": [
        "<a href=\"https://colab.research.google.com/github/anagvillanueva/DisenoyAnalisisDeAlgoritmos/blob/master/Tarea7.ipynb\" target=\"_parent\"><img src=\"https://colab.research.google.com/assets/colab-badge.svg\" alt=\"Open In Colab\"/></a>"
      ]
    },
    {
      "cell_type": "code",
      "metadata": {
        "id": "7oJCWL03UD1z"
      },
      "source": [
        "arch = open('el_quijote_ii.txt','r',encoding=\"utf8\")\n",
        "quijote = arch.read()\n",
        "\n",
        "def string_match_brute(A,P):\n",
        "    count = 0\n",
        "    for i in range(len(A) - len(P) + 1):\n",
        "        for j in range(len(P)):\n",
        "            if P[j] == A[i+j]:\n",
        "                pass\n",
        "            else:\n",
        "                break\n",
        "        if j+1 == len(P) and A[i+j] == P[j]:\n",
        "            count = count + 1\n",
        "            print(f\"{P} se encontro en la posicion {i}\")\n",
        "    print(f\"Para {P} hay {count} coincidencias\")\n",
        "\n",
        "\n",
        "entrada = \"0011100101011011101\"\n",
        "patron = [\"molino\", \"hidalgo\", \"merced\"]\n",
        "for i in patron:\n",
        "    string_match_brute(quijote,i)"
      ],
      "execution_count": null,
      "outputs": []
    }
  ]
}