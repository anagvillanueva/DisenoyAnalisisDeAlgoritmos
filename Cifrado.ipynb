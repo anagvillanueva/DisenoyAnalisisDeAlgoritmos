{
  "nbformat": 4,
  "nbformat_minor": 0,
  "metadata": {
    "colab": {
      "name": "Cifrado.ipynb",
      "provenance": [],
      "authorship_tag": "ABX9TyPTehZ5dkxsMQACBCHEb2Li",
      "include_colab_link": true
    },
    "kernelspec": {
      "name": "python3",
      "display_name": "Python 3"
    },
    "language_info": {
      "name": "python"
    }
  },
  "cells": [
    {
      "cell_type": "markdown",
      "metadata": {
        "id": "view-in-github",
        "colab_type": "text"
      },
      "source": [
        "<a href=\"https://colab.research.google.com/github/anagvillanueva/DisenoyAnalisisDeAlgoritmos/blob/master/Cifrado.ipynb\" target=\"_parent\"><img src=\"https://colab.research.google.com/assets/colab-badge.svg\" alt=\"Open In Colab\"/></a>"
      ]
    },
    {
      "cell_type": "markdown",
      "metadata": {
        "id": "1D1r6oAJrxnA"
      },
      "source": [
        "# **Fuerza** **Bruta**"
      ]
    },
    {
      "cell_type": "code",
      "metadata": {
        "colab": {
          "base_uri": "https://localhost:8080/"
        },
        "id": "cmoT6oZ_rwlB",
        "outputId": "316037bc-1743-42b7-96f2-66291a8b44a0"
      },
      "source": [
        "def string_match_brute(A,P):\n",
        "    for i in range(len(A) - len(P) + 1):\n",
        "        for j in range(len(P)):\n",
        "            if P[j] == A[i +j ]:\n",
        "                pass\n",
        "            else: \n",
        "                break \n",
        "        if j + 1 == len(P) and A[i+j] == P[j]:\n",
        "            print(f'se encontro la posicion: {i}')\n",
        "\n",
        "entrada = \"0011100101011011101101\"\n",
        "patron = \"01101\"\n",
        "string_match_brute(entrada,patron)"
      ],
      "execution_count": null,
      "outputs": [
        {
          "output_type": "stream",
          "name": "stdout",
          "text": [
            "se encontro la posicion: 10\n",
            "se encontro la posicion: 17\n"
          ]
        }
      ]
    },
    {
      "cell_type": "code",
      "metadata": {
        "colab": {
          "base_uri": "https://localhost:8080/"
        },
        "id": "xQVbX3-DnkOG",
        "outputId": "91e35d84-7f00-4481-d35c-a4f5751a99f7"
      },
      "source": [
        "cifrado = \"dwdfdu\"\n",
        "alfabeto = \"abcdefghijklmnopqrstuvwxyz\"\n",
        "#llave posiciones de corrimiento?\n",
        "for llave in range(1,len(alfabeto)):\n",
        "    for i in range(len(cifrado)):\n",
        "        #print(alfabeto.index(cifrado[i]), end=\" \")\n",
        "        index = alfabeto.index(cifrado[i])\n",
        "        print( alfabeto[(index + llave) % 26], end =\"\")\n",
        "    print(\"\")"
      ],
      "execution_count": 3,
      "outputs": [
        {
          "output_type": "stream",
          "name": "stdout",
          "text": [
            "exegev\n",
            "fyfhfw\n",
            "gzgigx\n",
            "hahjhy\n",
            "ibikiz\n",
            "jcjlja\n",
            "kdkmkb\n",
            "lelnlc\n",
            "mfmomd\n",
            "ngnpne\n",
            "ohoqof\n",
            "piprpg\n",
            "qjqsqh\n",
            "rkrtri\n",
            "slsusj\n",
            "tmtvtk\n",
            "unuwul\n",
            "vovxvm\n",
            "wpwywn\n",
            "xqxzxo\n",
            "yryayp\n",
            "zszbzq\n",
            "atacar\n",
            "bubdbs\n",
            "cvcect\n"
          ]
        }
      ]
    },
    {
      "cell_type": "code",
      "metadata": {
        "colab": {
          "base_uri": "https://localhost:8080/"
        },
        "id": "n2ADQQCKnVw0",
        "outputId": "51589786-1bf8-4312-f181-7767473223ed"
      },
      "source": [
        "cifrado = \"zg gzhv lpz vidhv v gv pidqzmndyvy ivxdjivg, kjm hd mvuv cvwgvmá zg znkímdop, mzqzgv gv qjxvxdói cphviínodxv xji gv lpz apz xjixzwdyv. zg vpojm yz znov xégzwmz amvnz, ejné qvnxjixzgjn, vnphdó gv mzxojmív zi 1920, zi piv ékjxv zi lpz gvn znkzmviuvn yz gv mzqjgpxdói vúi znovwvi qdqvn, cvwív piv bmvi aé zi gv kvomdv t zg áidhj mzyziojm nz zsoziyív zi zg vhwdzioz.\"\n",
        "alfabeto = \"abcdefghijklmnopqrstuvwxyz\"\n",
        "#llave posiciones de corrimiento?\n",
        "for llave in range(1,len(alfabeto)):\n",
        "    for i in range(len(cifrado)):\n",
        "        if (cifrado[i] in alfabeto):\n",
        "\n",
        "            #print(alfabeto.index(cifrado[i]), end=\" \")\n",
        "            index = alfabeto.index(cifrado[i])\n",
        "            print( alfabeto[(index + llave) % 26], end =\" \")\n",
        "        else:\n",
        "            print(cifrado[i],end=\" \")\n",
        "    print(\"\")"
      ],
      "execution_count": 2,
      "outputs": [
        {
          "output_type": "stream",
          "name": "stdout",
          "text": [
            "a h   h a i w   m q a   w j e i w   w   h w   q j e r a n o e z w z   j w y e k j w h ,   l k n   i e   n w v w   d w x h w n á   a h   a o l í n e p q ,   n a r a h w   h w   r k y w y e ó j   d q i w j í o p e y w   y k j   h w   m q a   b q a   y k j y a x e z w .   a h   w q p k n   z a   a o p w   y é h a x n a   b n w o a ,   f k o é   r w o y k j y a h k o ,   w o q i e ó   h w   n a y p k n í w   a j   1 9 2 0 ,   a j   q j w   é l k y w   a j   m q a   h w o   a o l a n w j v w o   z a   h w   n a r k h q y e ó j   w ú j   a o p w x w j   r e r w o ,   d w x í w   q j w   c n w j   b é   a j   h w   l w p n e w   u   a h   á j e i k   n a z a j p k n   o a   a t p a j z í w   a j   a h   w i x e a j p a . \n",
            "b i   i b j x   n r b   x k f j x   x   i x   r k f s b o p f a x a   k x z f l k x i ,   m l o   j f   o x w x   e x y i x o á   b i   b p m í o f q r ,   o b s b i x   i x   s l z x z f ó k   e r j x k í p q f z x   z l k   i x   n r b   c r b   z l k z b y f a x .   b i   x r q l o   a b   b p q x   z é i b y o b   c o x p b ,   g l p é   s x p z l k z b i l p ,   x p r j f ó   i x   o b z q l o í x   b k   1 9 2 0 ,   b k   r k x   é m l z x   b k   n r b   i x p   b p m b o x k w x p   a b   i x   o b s l i r z f ó k   x ú k   b p q x y x k   s f s x p ,   e x y í x   r k x   d o x k   c é   b k   i x   m x q o f x   v   b i   á k f j l   o b a b k q l o   p b   b u q b k a í x   b k   b i   x j y f b k q b . \n",
            "c j   j c k y   o s c   y l g k y   y   j y   s l g t c p q g b y b   l y a g m l y j ,   n m p   k g   p y x y   f y z j y p á   c j   c q n í p g r s ,   p c t c j y   j y   t m a y a g ó l   f s k y l í q r g a y   a m l   j y   o s c   d s c   a m l a c z g b y .   c j   y s r m p   b c   c q r y   a é j c z p c   d p y q c ,   h m q é   t y q a m l a c j m q ,   y q s k g ó   j y   p c a r m p í y   c l   1 9 2 0 ,   c l   s l y   é n m a y   c l   o s c   j y q   c q n c p y l x y q   b c   j y   p c t m j s a g ó l   y ú l   c q r y z y l   t g t y q ,   f y z í y   s l y   e p y l   d é   c l   j y   n y r p g y   w   c j   á l g k m   p c b c l r m p   q c   c v r c l b í y   c l   c j   y k z g c l r c . \n",
            "d k   k d l z   p t d   z m h l z   z   k z   t m h u d q r h c z c   m z b h n m z k ,   o n q   l h   q z y z   g z a k z q á   d k   d r o í q h s t ,   q d u d k z   k z   u n b z b h ó m   g t l z m í r s h b z   b n m   k z   p t d   e t d   b n m b d a h c z .   d k   z t s n q   c d   d r s z   b é k d a q d   e q z r d ,   i n r é   u z r b n m b d k n r ,   z r t l h ó   k z   q d b s n q í z   d m   1 9 2 0 ,   d m   t m z   é o n b z   d m   p t d   k z r   d r o d q z m y z r   c d   k z   q d u n k t b h ó m   z ú m   d r s z a z m   u h u z r ,   g z a í z   t m z   f q z m   e é   d m   k z   o z s q h z   x   d k   á m h l n   q d c d m s n q   r d   d w s d m c í z   d m   d k   z l a h d m s d . \n",
            "e l   l e m a   q u e   a n i m a   a   l a   u n i v e r s i d a d   n a c i o n a l ,   p o r   m i   r a z a   h a b l a r á   e l   e s p í r i t u ,   r e v e l a   l a   v o c a c i ó n   h u m a n í s t i c a   c o n   l a   q u e   f u e   c o n c e b i d a .   e l   a u t o r   d e   e s t a   c é l e b r e   f r a s e ,   j o s é   v a s c o n c e l o s ,   a s u m i ó   l a   r e c t o r í a   e n   1 9 2 0 ,   e n   u n a   é p o c a   e n   q u e   l a s   e s p e r a n z a s   d e   l a   r e v o l u c i ó n   a ú n   e s t a b a n   v i v a s ,   h a b í a   u n a   g r a n   f é   e n   l a   p a t r i a   y   e l   á n i m o   r e d e n t o r   s e   e x t e n d í a   e n   e l   a m b i e n t e . \n",
            "f m   m f n b   r v f   b o j n b   b   m b   v o j w f s t j e b e   o b d j p o b m ,   q p s   n j   s b a b   i b c m b s á   f m   f t q í s j u v ,   s f w f m b   m b   w p d b d j ó o   i v n b o í t u j d b   d p o   m b   r v f   g v f   d p o d f c j e b .   f m   b v u p s   e f   f t u b   d é m f c s f   g s b t f ,   k p t é   w b t d p o d f m p t ,   b t v n j ó   m b   s f d u p s í b   f o   1 9 2 0 ,   f o   v o b   é q p d b   f o   r v f   m b t   f t q f s b o a b t   e f   m b   s f w p m v d j ó o   b ú o   f t u b c b o   w j w b t ,   i b c í b   v o b   h s b o   g é   f o   m b   q b u s j b   z   f m   á o j n p   s f e f o u p s   t f   f y u f o e í b   f o   f m   b n c j f o u f . \n",
            "g n   n g o c   s w g   c p k o c   c   n c   w p k x g t u k f c f   p c e k q p c n ,   r q t   o k   t c b c   j c d n c t á   g n   g u r í t k v w ,   t g x g n c   n c   x q e c e k ó p   j w o c p í u v k e c   e q p   n c   s w g   h w g   e q p e g d k f c .   g n   c w v q t   f g   g u v c   e é n g d t g   h t c u g ,   l q u é   x c u e q p e g n q u ,   c u w o k ó   n c   t g e v q t í c   g p   1 9 2 0 ,   g p   w p c   é r q e c   g p   s w g   n c u   g u r g t c p b c u   f g   n c   t g x q n w e k ó p   c ú p   g u v c d c p   x k x c u ,   j c d í c   w p c   i t c p   h é   g p   n c   r c v t k c   a   g n   á p k o q   t g f g p v q t   u g   g z v g p f í c   g p   g n   c o d k g p v g . \n",
            "h o   o h p d   t x h   d q l p d   d   o d   x q l y h u v l g d g   q d f l r q d o ,   s r u   p l   u d c d   k d e o d u á   h o   h v s í u l w x ,   u h y h o d   o d   y r f d f l ó q   k x p d q í v w l f d   f r q   o d   t x h   i x h   f r q f h e l g d .   h o   d x w r u   g h   h v w d   f é o h e u h   i u d v h ,   m r v é   y d v f r q f h o r v ,   d v x p l ó   o d   u h f w r u í d   h q   1 9 2 0 ,   h q   x q d   é s r f d   h q   t x h   o d v   h v s h u d q c d v   g h   o d   u h y r o x f l ó q   d ú q   h v w d e d q   y l y d v ,   k d e í d   x q d   j u d q   i é   h q   o d   s d w u l d   b   h o   á q l p r   u h g h q w r u   v h   h a w h q g í d   h q   h o   d p e l h q w h . \n",
            "i p   p i q e   u y i   e r m q e   e   p e   y r m z i v w m h e h   r e g m s r e p ,   t s v   q m   v e d e   l e f p e v á   i p   i w t í v m x y ,   v i z i p e   p e   z s g e g m ó r   l y q e r í w x m g e   g s r   p e   u y i   j y i   g s r g i f m h e .   i p   e y x s v   h i   i w x e   g é p i f v i   j v e w i ,   n s w é   z e w g s r g i p s w ,   e w y q m ó   p e   v i g x s v í e   i r   1 9 2 0 ,   i r   y r e   é t s g e   i r   u y i   p e w   i w t i v e r d e w   h i   p e   v i z s p y g m ó r   e ú r   i w x e f e r   z m z e w ,   l e f í e   y r e   k v e r   j é   i r   p e   t e x v m e   c   i p   á r m q s   v i h i r x s v   w i   i b x i r h í e   i r   i p   e q f m i r x i . \n",
            "j q   q j r f   v z j   f s n r f   f   q f   z s n a j w x n i f i   s f h n t s f q ,   u t w   r n   w f e f   m f g q f w á   j q   j x u í w n y z ,   w j a j q f   q f   a t h f h n ó s   m z r f s í x y n h f   h t s   q f   v z j   k z j   h t s h j g n i f .   j q   f z y t w   i j   j x y f   h é q j g w j   k w f x j ,   o t x é   a f x h t s h j q t x ,   f x z r n ó   q f   w j h y t w í f   j s   1 9 2 0 ,   j s   z s f   é u t h f   j s   v z j   q f x   j x u j w f s e f x   i j   q f   w j a t q z h n ó s   f ú s   j x y f g f s   a n a f x ,   m f g í f   z s f   l w f s   k é   j s   q f   u f y w n f   d   j q   á s n r t   w j i j s y t w   x j   j c y j s i í f   j s   j q   f r g n j s y j . \n",
            "k r   r k s g   w a k   g t o s g   g   r g   a t o b k x y o j g j   t g i o u t g r ,   v u x   s o   x g f g   n g h r g x á   k r   k y v í x o z a ,   x k b k r g   r g   b u i g i o ó t   n a s g t í y z o i g   i u t   r g   w a k   l a k   i u t i k h o j g .   k r   g a z u x   j k   k y z g   i é r k h x k   l x g y k ,   p u y é   b g y i u t i k r u y ,   g y a s o ó   r g   x k i z u x í g   k t   1 9 2 0 ,   k t   a t g   é v u i g   k t   w a k   r g y   k y v k x g t f g y   j k   r g   x k b u r a i o ó t   g ú t   k y z g h g t   b o b g y ,   n g h í g   a t g   m x g t   l é   k t   r g   v g z x o g   e   k r   á t o s u   x k j k t z u x   y k   k d z k t j í g   k t   k r   g s h o k t z k . \n",
            "l s   s l t h   x b l   h u p t h   h   s h   b u p c l y z p k h k   u h j p v u h s ,   w v y   t p   y h g h   o h i s h y á   l s   l z w í y p a b ,   y l c l s h   s h   c v j h j p ó u   o b t h u í z a p j h   j v u   s h   x b l   m b l   j v u j l i p k h .   l s   h b a v y   k l   l z a h   j é s l i y l   m y h z l ,   q v z é   c h z j v u j l s v z ,   h z b t p ó   s h   y l j a v y í h   l u   1 9 2 0 ,   l u   b u h   é w v j h   l u   x b l   s h z   l z w l y h u g h z   k l   s h   y l c v s b j p ó u   h ú u   l z a h i h u   c p c h z ,   o h i í h   b u h   n y h u   m é   l u   s h   w h a y p h   f   l s   á u p t v   y l k l u a v y   z l   l e a l u k í h   l u   l s   h t i p l u a l . \n",
            "m t   t m u i   y c m   i v q u i   i   t i   c v q d m z a q l i l   v i k q w v i t ,   x w z   u q   z i h i   p i j t i z á   m t   m a x í z q b c ,   z m d m t i   t i   d w k i k q ó v   p c u i v í a b q k i   k w v   t i   y c m   n c m   k w v k m j q l i .   m t   i c b w z   l m   m a b i   k é t m j z m   n z i a m ,   r w a é   d i a k w v k m t w a ,   i a c u q ó   t i   z m k b w z í i   m v   1 9 2 0 ,   m v   c v i   é x w k i   m v   y c m   t i a   m a x m z i v h i a   l m   t i   z m d w t c k q ó v   i ú v   m a b i j i v   d q d i a ,   p i j í i   c v i   o z i v   n é   m v   t i   x i b z q i   g   m t   á v q u w   z m l m v b w z   a m   m f b m v l í i   m v   m t   i u j q m v b m . \n",
            "n u   u n v j   z d n   j w r v j   j   u j   d w r e n a b r m j m   w j l r x w j u ,   y x a   v r   a j i j   q j k u j a á   n u   n b y í a r c d ,   a n e n u j   u j   e x l j l r ó w   q d v j w í b c r l j   l x w   u j   z d n   o d n   l x w l n k r m j .   n u   j d c x a   m n   n b c j   l é u n k a n   o a j b n ,   s x b é   e j b l x w l n u x b ,   j b d v r ó   u j   a n l c x a í j   n w   1 9 2 0 ,   n w   d w j   é y x l j   n w   z d n   u j b   n b y n a j w i j b   m n   u j   a n e x u d l r ó w   j ú w   n b c j k j w   e r e j b ,   q j k í j   d w j   p a j w   o é   n w   u j   y j c a r j   h   n u   á w r v x   a n m n w c x a   b n   n g c n w m í j   n w   n u   j v k r n w c n . \n",
            "o v   v o w k   a e o   k x s w k   k   v k   e x s f o b c s n k n   x k m s y x k v ,   z y b   w s   b k j k   r k l v k b á   o v   o c z í b s d e ,   b o f o v k   v k   f y m k m s ó x   r e w k x í c d s m k   m y x   v k   a e o   p e o   m y x m o l s n k .   o v   k e d y b   n o   o c d k   m é v o l b o   p b k c o ,   t y c é   f k c m y x m o v y c ,   k c e w s ó   v k   b o m d y b í k   o x   1 9 2 0 ,   o x   e x k   é z y m k   o x   a e o   v k c   o c z o b k x j k c   n o   v k   b o f y v e m s ó x   k ú x   o c d k l k x   f s f k c ,   r k l í k   e x k   q b k x   p é   o x   v k   z k d b s k   i   o v   á x s w y   b o n o x d y b   c o   o h d o x n í k   o x   o v   k w l s o x d o . \n",
            "p w   w p x l   b f p   l y t x l   l   w l   f y t g p c d t o l o   y l n t z y l w ,   a z c   x t   c l k l   s l m w l c á   p w   p d a í c t e f ,   c p g p w l   w l   g z n l n t ó y   s f x l y í d e t n l   n z y   w l   b f p   q f p   n z y n p m t o l .   p w   l f e z c   o p   p d e l   n é w p m c p   q c l d p ,   u z d é   g l d n z y n p w z d ,   l d f x t ó   w l   c p n e z c í l   p y   1 9 2 0 ,   p y   f y l   é a z n l   p y   b f p   w l d   p d a p c l y k l d   o p   w l   c p g z w f n t ó y   l ú y   p d e l m l y   g t g l d ,   s l m í l   f y l   r c l y   q é   p y   w l   a l e c t l   j   p w   á y t x z   c p o p y e z c   d p   p i e p y o í l   p y   p w   l x m t p y e p . \n",
            "q x   x q y m   c g q   m z u y m   m   x m   g z u h q d e u p m p   z m o u a z m x ,   b a d   y u   d m l m   t m n x m d á   q x   q e b í d u f g ,   d q h q x m   x m   h a o m o u ó z   t g y m z í e f u o m   o a z   x m   c g q   r g q   o a z o q n u p m .   q x   m g f a d   p q   q e f m   o é x q n d q   r d m e q ,   v a e é   h m e o a z o q x a e ,   m e g y u ó   x m   d q o f a d í m   q z   1 9 2 0 ,   q z   g z m   é b a o m   q z   c g q   x m e   q e b q d m z l m e   p q   x m   d q h a x g o u ó z   m ú z   q e f m n m z   h u h m e ,   t m n í m   g z m   s d m z   r é   q z   x m   b m f d u m   k   q x   á z u y a   d q p q z f a d   e q   q j f q z p í m   q z   q x   m y n u q z f q . \n",
            "r y   y r z n   d h r   n a v z n   n   y n   h a v i r e f v q n q   a n p v b a n y ,   c b e   z v   e n m n   u n o y n e á   r y   r f c í e v g h ,   e r i r y n   y n   i b p n p v ó a   u h z n a í f g v p n   p b a   y n   d h r   s h r   p b a p r o v q n .   r y   n h g b e   q r   r f g n   p é y r o e r   s e n f r ,   w b f é   i n f p b a p r y b f ,   n f h z v ó   y n   e r p g b e í n   r a   1 9 2 0 ,   r a   h a n   é c b p n   r a   d h r   y n f   r f c r e n a m n f   q r   y n   e r i b y h p v ó a   n ú a   r f g n o n a   i v i n f ,   u n o í n   h a n   t e n a   s é   r a   y n   c n g e v n   l   r y   á a v z b   e r q r a g b e   f r   r k g r a q í n   r a   r y   n z o v r a g r . \n",
            "s z   z s a o   e i s   o b w a o   o   z o   i b w j s f g w r o r   b o q w c b o z ,   d c f   a w   f o n o   v o p z o f á   s z   s g d í f w h i ,   f s j s z o   z o   j c q o q w ó b   v i a o b í g h w q o   q c b   z o   e i s   t i s   q c b q s p w r o .   s z   o i h c f   r s   s g h o   q é z s p f s   t f o g s ,   x c g é   j o g q c b q s z c g ,   o g i a w ó   z o   f s q h c f í o   s b   1 9 2 0 ,   s b   i b o   é d c q o   s b   e i s   z o g   s g d s f o b n o g   r s   z o   f s j c z i q w ó b   o ú b   s g h o p o b   j w j o g ,   v o p í o   i b o   u f o b   t é   s b   z o   d o h f w o   m   s z   á b w a c   f s r s b h c f   g s   s l h s b r í o   s b   s z   o a p w s b h s . \n",
            "t a   a t b p   f j t   p c x b p   p   a p   j c x k t g h x s p s   c p r x d c p a ,   e d g   b x   g p o p   w p q a p g á   t a   t h e í g x i j ,   g t k t a p   a p   k d r p r x ó c   w j b p c í h i x r p   r d c   a p   f j t   u j t   r d c r t q x s p .   t a   p j i d g   s t   t h i p   r é a t q g t   u g p h t ,   y d h é   k p h r d c r t a d h ,   p h j b x ó   a p   g t r i d g í p   t c   1 9 2 0 ,   t c   j c p   é e d r p   t c   f j t   a p h   t h e t g p c o p h   s t   a p   g t k d a j r x ó c   p ú c   t h i p q p c   k x k p h ,   w p q í p   j c p   v g p c   u é   t c   a p   e p i g x p   n   t a   á c x b d   g t s t c i d g   h t   t m i t c s í p   t c   t a   p b q x t c i t . \n",
            "u b   b u c q   g k u   q d y c q   q   b q   k d y l u h i y t q t   d q s y e d q b ,   f e h   c y   h q p q   x q r b q h á   u b   u i f í h y j k ,   h u l u b q   b q   l e s q s y ó d   x k c q d í i j y s q   s e d   b q   g k u   v k u   s e d s u r y t q .   u b   q k j e h   t u   u i j q   s é b u r h u   v h q i u ,   z e i é   l q i s e d s u b e i ,   q i k c y ó   b q   h u s j e h í q   u d   1 9 2 0 ,   u d   k d q   é f e s q   u d   g k u   b q i   u i f u h q d p q i   t u   b q   h u l e b k s y ó d   q ú d   u i j q r q d   l y l q i ,   x q r í q   k d q   w h q d   v é   u d   b q   f q j h y q   o   u b   á d y c e   h u t u d j e h   i u   u n j u d t í q   u d   u b   q c r y u d j u . \n",
            "v c   c v d r   h l v   r e z d r   r   c r   l e z m v i j z u r u   e r t z f e r c ,   g f i   d z   i r q r   y r s c r i á   v c   v j g í i z k l ,   i v m v c r   c r   m f t r t z ó e   y l d r e í j k z t r   t f e   c r   h l v   w l v   t f e t v s z u r .   v c   r l k f i   u v   v j k r   t é c v s i v   w i r j v ,   a f j é   m r j t f e t v c f j ,   r j l d z ó   c r   i v t k f i í r   v e   1 9 2 0 ,   v e   l e r   é g f t r   v e   h l v   c r j   v j g v i r e q r j   u v   c r   i v m f c l t z ó e   r ú e   v j k r s r e   m z m r j ,   y r s í r   l e r   x i r e   w é   v e   c r   g r k i z r   p   v c   á e z d f   i v u v e k f i   j v   v o k v e u í r   v e   v c   r d s z v e k v . \n",
            "w d   d w e s   i m w   s f a e s   s   d s   m f a n w j k a v s v   f s u a g f s d ,   h g j   e a   j s r s   z s t d s j á   w d   w k h í j a l m ,   j w n w d s   d s   n g u s u a ó f   z m e s f í k l a u s   u g f   d s   i m w   x m w   u g f u w t a v s .   w d   s m l g j   v w   w k l s   u é d w t j w   x j s k w ,   b g k é   n s k u g f u w d g k ,   s k m e a ó   d s   j w u l g j í s   w f   1 9 2 0 ,   w f   m f s   é h g u s   w f   i m w   d s k   w k h w j s f r s k   v w   d s   j w n g d m u a ó f   s ú f   w k l s t s f   n a n s k ,   z s t í s   m f s   y j s f   x é   w f   d s   h s l j a s   q   w d   á f a e g   j w v w f l g j   k w   w p l w f v í s   w f   w d   s e t a w f l w . \n",
            "x e   e x f t   j n x   t g b f t   t   e t   n g b o x k l b w t w   g t v b h g t e ,   i h k   f b   k t s t   a t u e t k á   x e   x l i í k b m n ,   k x o x e t   e t   o h v t v b ó g   a n f t g í l m b v t   v h g   e t   j n x   y n x   v h g v x u b w t .   x e   t n m h k   w x   x l m t   v é e x u k x   y k t l x ,   c h l é   o t l v h g v x e h l ,   t l n f b ó   e t   k x v m h k í t   x g   1 9 2 0 ,   x g   n g t   é i h v t   x g   j n x   e t l   x l i x k t g s t l   w x   e t   k x o h e n v b ó g   t ú g   x l m t u t g   o b o t l ,   a t u í t   n g t   z k t g   y é   x g   e t   i t m k b t   r   x e   á g b f h   k x w x g m h k   l x   x q m x g w í t   x g   x e   t f u b x g m x . \n",
            "y f   f y g u   k o y   u h c g u   u   f u   o h c p y l m c x u x   h u w c i h u f ,   j i l   g c   l u t u   b u v f u l á   y f   y m j í l c n o ,   l y p y f u   f u   p i w u w c ó h   b o g u h í m n c w u   w i h   f u   k o y   z o y   w i h w y v c x u .   y f   u o n i l   x y   y m n u   w é f y v l y   z l u m y ,   d i m é   p u m w i h w y f i m ,   u m o g c ó   f u   l y w n i l í u   y h   1 9 2 0 ,   y h   o h u   é j i w u   y h   k o y   f u m   y m j y l u h t u m   x y   f u   l y p i f o w c ó h   u ú h   y m n u v u h   p c p u m ,   b u v í u   o h u   a l u h   z é   y h   f u   j u n l c u   s   y f   á h c g i   l y x y h n i l   m y   y r n y h x í u   y h   y f   u g v c y h n y . \n"
          ]
        }
      ]
    },
    {
      "cell_type": "code",
      "metadata": {
        "colab": {
          "base_uri": "https://localhost:8080/",
          "height": 282
        },
        "id": "r2NX-YgFkGEq",
        "outputId": "b1c9a4d8-cc81-4a83-ede6-b165d015279b"
      },
      "source": [
        "from matplotlib import pyplot as plt\n",
        "import random\n",
        "\n",
        "pares = []\n",
        "for i in range(5):\n",
        "    pares.append( [ random.randint(1,100) , random.randint(1,100) ] )\n",
        "print(pares)\n",
        "\n",
        "for par in pares:\n",
        "    plt.plot( par[0],par[1] , \"bo\" )"
      ],
      "execution_count": 1,
      "outputs": [
        {
          "output_type": "stream",
          "name": "stdout",
          "text": [
            "[[72, 34], [69, 23], [44, 32], [66, 65], [73, 34]]\n"
          ]
        },
        {
          "output_type": "display_data",
          "data": {
            "image/png": "[encoded data removed]",
            "text/plain": [
              "<Figure size 432x288 with 1 Axes>"
            ]
          },
          "metadata": {
            "needs_background": "light"
          }
        }
      ]
    }
  ]
}