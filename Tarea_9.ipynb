{
  "nbformat": 4,
  "nbformat_minor": 0,
  "metadata": {
    "colab": {
      "name": "Tarea_9.ipynb",
      "provenance": [],
      "authorship_tag": "ABX9TyOJDTdaS2aob+G23tEdsFZZ",
      "include_colab_link": true
    },
    "kernelspec": {
      "name": "python3",
      "display_name": "Python 3"
    },
    "language_info": {
      "name": "python"
    }
  },
  "cells": [
    {
      "cell_type": "markdown",
      "metadata": {
        "id": "view-in-github",
        "colab_type": "text"
      },
      "source": [
        "<a href=\"https://colab.research.google.com/github/anagvillanueva/DisenoyAnalisisDeAlgoritmos/blob/master/Tarea_9.ipynb\" target=\"_parent\"><img src=\"https://colab.research.google.com/assets/colab-badge.svg\" alt=\"Open In Colab\"/></a>"
      ]
    },
    {
      "cell_type": "code",
      "metadata": {
        "id": "ZGaIwxbCgoL-"
      },
      "source": [
        "def quickSort(L,res):\n",
        "  piv = L.pop()\n",
        "  if len(L) == 0:\n",
        "    res.append(piv)\n",
        "    return None\n",
        "  mayor = []\n",
        "  menor = []\n",
        "  for e in L:\n",
        "    mayor.append(e) if piv >= e else menor.append(e)\n",
        "  if len(mayor) >= 1:\n",
        "    __quickSort__(mayor,res)\n",
        "  res.append(piv)\n",
        "  if len(menor) >= 1:\n",
        "    __quickSort__(menor,res)\n",
        "\n",
        "def quickSort(L):\n",
        "  res = []\n",
        "  __quickSort__(L,res)\n",
        "  return res"
      ],
      "execution_count": 9,
      "outputs": []
    },
    {
      "cell_type": "code",
      "metadata": {
        "colab": {
          "base_uri": "https://localhost:8080/"
        },
        "id": "4QuOAbkUgsSh",
        "outputId": "afdd0cff-eed6-489f-8001-72d121eed935"
      },
      "source": [
        "print(quickSort([26,-33,4,8,11,-4,18,12,0,-36,74,71,-2,7,-41]))"
      ],
      "execution_count": 10,
      "outputs": [
        {
          "output_type": "stream",
          "name": "stdout",
          "text": [
            "[-41, -36, -33, -4, -2, 0, 4, 7, 8, 11, 12, 18, 26, 71, 74]\n"
          ]
        }
      ]
    }
  ]
}