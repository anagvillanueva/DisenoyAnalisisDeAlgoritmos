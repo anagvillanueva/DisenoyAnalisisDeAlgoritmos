{
  "nbformat": 4,
  "nbformat_minor": 0,
  "metadata": {
    "colab": {
      "name": "ArbolBinario.ipynb",
      "provenance": [],
      "authorship_tag": "ABX9TyM6f+eycSRkCfBfmyYEfL3W",
      "include_colab_link": true
    },
    "kernelspec": {
      "name": "python3",
      "display_name": "Python 3"
    },
    "language_info": {
      "name": "python"
    }
  },
  "cells": [
    {
      "cell_type": "markdown",
      "metadata": {
        "id": "view-in-github",
        "colab_type": "text"
      },
      "source": [
        "<a href=\"https://colab.research.google.com/github/anagvillanueva/DisenoyAnalisisDeAlgoritmos/blob/master/ArbolBinario.ipynb\" target=\"_parent\"><img src=\"https://colab.research.google.com/assets/colab-badge.svg\" alt=\"Open In Colab\"/></a>"
      ]
    },
    {
      "cell_type": "markdown",
      "metadata": {
        "id": "UJSbox8UPATo"
      },
      "source": [
        "# **ABB**"
      ]
    },
    {
      "cell_type": "code",
      "metadata": {
        "id": "Gcvbw8ukOsL0"
      },
      "source": [
        "class nodoArbol:\n",
        "  def __init__( self, value, left=None, right=None):\n",
        "    self.data = value\n",
        "    self.left = left\n",
        "    self.right = right\n",
        "\n",
        "class arbolBB:\n",
        "  def __init__(self):\n",
        "    self.__root = None\n",
        "  \n",
        "  def insert(self, value):\n",
        "    if self.__root == None:\n",
        "      self.__root = nodoArbol(value)\n",
        "    else: \n",
        "      self.__insert_nodo__(self.__root, value)\n",
        "    \n",
        "  def __insert_nodo__(self, nodo, value):\n",
        "    if nodo.data == value:\n",
        "      print(\"ya existe\")\n",
        "      pass\n",
        "    elif value < nodo.data:\n",
        "      if nodo.left == None:\n",
        "        nodo.left = nodoArbol(value)\n",
        "      else:\n",
        "        self.__insert_nodo__(nodo.left, value)\n",
        "    else:\n",
        "      if nodo.right == None:\n",
        "        nodo.right = nodoArbol(value)\n",
        "      else:\n",
        "        self.__insert_nodo__(nodo.right, value)\n",
        "\n",
        "  def transversal(self, formato = \"inorden\"):\n",
        "    if formato == \"inorden\":\n",
        "      self.recorrido_in(self.__root)\n",
        "      print(\"recorrido in\")\n",
        "    elif formato == \"preorden\":\n",
        "      self.recorrido_pre(self.__root)\n",
        "      print(\"recorrido pre\")\n",
        "    else: #Post\n",
        "      self.recorrido_pos(self.__root)\n",
        "      print(\"recorrido pos\")\n",
        "\n",
        "  def recorrido_in(self, nodo):\n",
        "    if nodo != None:\n",
        "      self.recorrido_in(nodo.left)\n",
        "      print(nodo.data, end=\"  \")\n",
        "      self.recorrido_in(nodo.right)\n",
        "\n",
        "  def recorrido_pre(self, nodo):\n",
        "    if nodo != None:\n",
        "      print(nodo.data, end=\"  \")\n",
        "      self.recorrido_pre(nodo.left)\n",
        "      self.recorrido_pre(nodo.right)\n",
        "\n",
        "  def recorrido_pos(self, nodo):\n",
        "    if nodo != None:\n",
        "      self.recorrido_pos(nodo.left)\n",
        "      self.recorrido_pos(nodo.right)\n",
        "      print(nodo.data, end=\"  \")\n",
        "  \n",
        "  def busqueda(self,value,nodo=None):\n",
        "    if self.__root is None:\n",
        "      print('Arbol vacio')\n",
        "      return None\n",
        "    else:\n",
        "      return self.__busqueda__(value,self.__root)\n",
        "\n",
        "  def __busqueda__(self,value,nodo):\n",
        "    if nodo.data == value:\n",
        "      print(\"Encontrado \",nodo.data)\n",
        "      return nodo\n",
        "    elif value < nodo.data and nodo.left != None:\n",
        "      return self.__busqueda__(value,nodo.left)\n",
        "    elif value > nodo.data and nodo.right != None:\n",
        "      return self.__busqueda__(value,nodo.right)\n",
        "    else:\n",
        "      return \"No existe\""
      ],
      "execution_count": 10,
      "outputs": []
    },
    {
      "cell_type": "code",
      "metadata": {
        "colab": {
          "base_uri": "https://localhost:8080/"
        },
        "id": "ipf6R3FWbBZx",
        "outputId": "7dd29dde-3514-495f-f14f-79e7ddb052bc"
      },
      "source": [
        "abb = ArbolBB()\n",
        "\n",
        "abb.insert(55)\n",
        "abb.insert(14)\n",
        "abb.insert(27)\n",
        "abb.insert(15)\n",
        "abb.insert(21)\n",
        "abb.insert(80)\n",
        "abb.insert(27)\n",
        "\n",
        "abb.transversal(\"inorden\")\n",
        "abb.transversal(\"preorden\")\n",
        "abb.transversal(\"posorden\")\n",
        "\n",
        "res = abb.buscar(28)\n",
        "print(\"-----------------\")\n",
        "res = abb.buscar(15)\n"
      ],
      "execution_count": 11,
      "outputs": [
        {
          "output_type": "stream",
          "name": "stdout",
          "text": [
            "Ya existe\n",
            "14 15 21 27 55 80 no existe\n",
            "-----------------\n",
            "Encontrado 15\n"
          ]
        }
      ]
    },
    {
      "cell_type": "code",
      "metadata": {
        "colab": {
          "base_uri": "https://localhost:8080/"
        },
        "id": "vwppRHcFO5z5",
        "outputId": "c0eb9276-676d-4cc0-ef22-099caba70848"
      },
      "source": [
        "raiz = nodoArbol(60, None, None)\n",
        "raiz.left = nodoArbol(40, None, None)\n",
        "print(raiz.left.data)\n",
        "\n",
        "raiz = nodoArbol(60,nodoArbol(40), None)\n",
        "print(raiz.left.data)\n",
        "\n",
        "raiz = nodoArbol(60,nodoArbol(40,nodoArbol(30)),nodoArbol(70))\n",
        "print(raiz.left.left.data)\n",
        "\n",
        "\n",
        "#Imprimiendo nodo de la izquierda, por medio de iteracion\n",
        "#Con curr_node, recorremos\n",
        "curr_node = raiz\n",
        "while curr_node.left != None:\n",
        "  curr_node = curr_node.left\n",
        "print(curr_node.data)"
      ],
      "execution_count": null,
      "outputs": [
        {
          "output_type": "stream",
          "name": "stdout",
          "text": [
            "40\n",
            "40\n",
            "30\n",
            "30\n"
          ]
        }
      ]
    }
  ]
}