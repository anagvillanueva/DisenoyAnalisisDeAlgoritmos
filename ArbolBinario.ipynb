{
  "nbformat": 4,
  "nbformat_minor": 0,
  "metadata": {
    "colab": {
      "name": "ArbolBinario.ipynb",
      "provenance": [],
      "authorship_tag": "ABX9TyMEtL2RjeAqc5bP3OS3EtaG",
      "include_colab_link": true
    },
    "kernelspec": {
      "name": "python3",
      "display_name": "Python 3"
    },
    "language_info": {
      "name": "python"
    }
  },
  "cells": [
    {
      "cell_type": "markdown",
      "metadata": {
        "id": "view-in-github",
        "colab_type": "text"
      },
      "source": [
        "<a href=\"https://colab.research.google.com/github/anagvillanueva/DisenoyAnalisisDeAlgoritmos/blob/master/ArbolBinario.ipynb\" target=\"_parent\"><img src=\"https://colab.research.google.com/assets/colab-badge.svg\" alt=\"Open In Colab\"/></a>"
      ]
    },
    {
      "cell_type": "markdown",
      "metadata": {
        "id": "UJSbox8UPATo"
      },
      "source": [
        "# **ABB**"
      ]
    },
    {
      "cell_type": "code",
      "metadata": {
        "id": "Gcvbw8ukOsL0"
      },
      "source": [
        "class nodoArbol:\n",
        "  def __init__(self,value,left=None,rigth=None):\n",
        "    self.data = value\n",
        "    self.left = left\n",
        "    self.rigth = rigth\n",
        "\n",
        "class arbolBB:\n",
        "  def __init__(self):\n",
        "    pass"
      ],
      "execution_count": 1,
      "outputs": []
    },
    {
      "cell_type": "code",
      "metadata": {
        "colab": {
          "base_uri": "https://localhost:8080/"
        },
        "id": "vwppRHcFO5z5",
        "outputId": "82a1e378-7939-44bf-e07f-c8d67722ef85"
      },
      "source": [
        "raiz = nodoArbol(60)\n",
        "raiz.left = nodoArbol(40)\n",
        "print(raiz.left.data)\n",
        "\n",
        "raiz = nodoArbol(60,nodoArbol(40))\n",
        "print(raiz.left.data)\n",
        "\n",
        "raiz = nodoArbol(60,nodoArbol(40,nodoArbol(30)),nodoArbol(70))\n",
        "print(raiz.left.left.data)"
      ],
      "execution_count": 2,
      "outputs": [
        {
          "output_type": "stream",
          "name": "stdout",
          "text": [
            "40\n",
            "40\n",
            "30\n"
          ]
        }
      ]
    }
  ]
}