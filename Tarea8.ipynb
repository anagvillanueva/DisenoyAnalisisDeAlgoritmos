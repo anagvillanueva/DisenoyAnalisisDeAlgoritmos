{
  "nbformat": 4,
  "nbformat_minor": 0,
  "metadata": {
    "colab": {
      "name": "Tarea8.ipynb",
      "provenance": [],
      "authorship_tag": "ABX9TyPUPIkS6Fi/pd1u4TSAGx+V",
      "include_colab_link": true
    },
    "kernelspec": {
      "name": "python3",
      "display_name": "Python 3"
    },
    "language_info": {
      "name": "python"
    }
  },
  "cells": [
    {
      "cell_type": "markdown",
      "metadata": {
        "id": "view-in-github",
        "colab_type": "text"
      },
      "source": [
        "<a href=\"https://colab.research.google.com/github/anagvillanueva/DisenoyAnalisisDeAlgoritmos/blob/master/Tarea8.ipynb\" target=\"_parent\"><img src=\"https://colab.research.google.com/assets/colab-badge.svg\" alt=\"Open In Colab\"/></a>"
      ]
    },
    {
      "cell_type": "code",
      "metadata": {
        "id": "Nf_QYmwa53lE"
      },
      "source": [
        "def detectar(cadena):\n",
        "  vocales = [\"a\",\"e\",\"i\",\"o\",\"u\",\"á\",\"é\",\"í\",\"ó\",\"ú\",\" \",\",\",\".\",\";\",\"1\",\"2\",\"3\",\"4\",\"5\",\"6\",\"7\",\"8\",\"9\",\"0\"]\n",
        "  letras = [\"b\",\"c\",\"d\",\"f\",\"g\",\"h\",\"j\",\"k\",\"l\",\"m\",\"n\",\"p\",\"q\",\"r\",\"s\",\"t\",\"v\",\"w\",\"x\",\"y\",\"z\",\" \",\",\",\".\",\";\",\"1\",\"2\",\"3\",\"4\",\"5\",\"6\",\"7\",\"8\",\"9\",\"0\"]\n",
        "  for i in range(1,len(cadena)-1):\n",
        "    # ((v,l,v),(v,v,l),(l,v,v),(l,v,l),(v,l,l),(l,l,v))\n",
        "    if not((isEsta(vocales,cadena[i-1]) and isEsta(vocales,cadena[i]) and isEsta(letras,cadena[i+1])) or (isEsta(letras,cadena[i-1]) and isEsta(vocales,cadena[i]) and isEsta(vocales,cadena[i+1])) or (isEsta(letras,cadena[i-1]) and isEsta(vocales,cadena[i]) and isEsta(letras,cadena[i+1])) or (isEsta(vocales,cadena[i-1]) and isEsta(letras,cadena[i]) and isEsta(letras,cadena[i+1])) or (isEsta(letras,cadena[i-1]) and isEsta(letras,cadena[i]) and isEsta(vocales,cadena[i+1])) or (isEsta(letras,cadena[i-1]) and isEsta(vocales,cadena[i]) and isEsta(vocales,cadena[i+1])) or (isEsta(letras,cadena[i-1]) and isEsta(vocales,cadena[i]) and isEsta(letras,cadena[i+1])) or (isEsta(vocales,cadena[i-1]) and isEsta(letras,cadena[i]) and isEsta(letras,cadena[i+1])) or (isEsta(vocales,cadena[i-1]) and isEsta(letras,cadena[i]) and isEsta(vocales,cadena[i+1]))):\n",
        "      return False \n",
        "  return True\n",
        "\n",
        "def isEsta(lista,elemento):\n",
        "  for e in lista:\n",
        "    if e == elemento:\n",
        "      return True\n",
        "  return False\n"
      ],
      "execution_count": 1,
      "outputs": []
    },
    {
      "cell_type": "code",
      "metadata": {
        "colab": {
          "base_uri": "https://localhost:8080/"
        },
        "id": "YNS9jE0V59Vu",
        "outputId": "4e7b4266-0a82-4aa7-bb80-25cb2c957ac5"
      },
      "source": [
        "cifrado = \"zg gzhv lpz vidhv v gv pidqzmndyvy ivxdjivg, kjm hd mvuv cvwgvmá zg znkímdop, mzqzgv gv qjxvxdói cphviínodxv xji gv lpz apz xjixzwdyv. zg vpojm yz znov xégzwmz amvnz, ejné qvnxjixzgjn, vnphdó gv mzxojmív zi 1920, zi piv ékjxv zi lpz gvn znkzmviuvn yz gv mzqjgpxdói vúi znovwvi qdqvn, cvwív piv bmvi aé zi gv kvomdv t zg áidhj mzyziojm nz zsoziyív zi zg vhwdzioz.\"\n",
        "alfabeto = \"abcdefghijklmnopqrstuvwxyz\"\n",
        "for llave in range(1,len(alfabeto)):\n",
        "  cadena_ = \"\"\n",
        "  for i in range(len(cifrado)):\n",
        "    if cifrado[i] in alfabeto:\n",
        "      index = alfabeto.index(cifrado[i])\n",
        "      cadena_ = cadena_ + alfabeto[(index+llave)%26]\n",
        "    else:\n",
        "      cadena_ = cadena_ + cifrado[i]\n",
        "  if detectar(cadena_):\n",
        "    print(cadena_)"
      ],
      "execution_count": 2,
      "outputs": [
        {
          "output_type": "stream",
          "name": "stdout",
          "text": [
            "el lema que anima a la universidad nacional, por mi raza hablará el espíritu, revela la vocación humanística con la que fue concebida. el autor de esta célebre frase, josé vasconcelos, asumió la rectoría en 1920, en una época en que las esperanzas de la revolución aún estaban vivas, había una gran fé en la patria y el ánimo redentor se extendía en el ambiente.\n"
          ]
        }
      ]
    }
  ]
}