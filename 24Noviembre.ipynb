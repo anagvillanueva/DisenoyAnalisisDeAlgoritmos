{
  "nbformat": 4,
  "nbformat_minor": 0,
  "metadata": {
    "colab": {
      "name": "24Noviembre.ipynb",
      "provenance": [],
      "authorship_tag": "ABX9TyPR29A8lbgzAaVinsRXs+4n",
      "include_colab_link": true
    },
    "kernelspec": {
      "name": "python3",
      "display_name": "Python 3"
    },
    "language_info": {
      "name": "python"
    }
  },
  "cells": [
    {
      "cell_type": "markdown",
      "metadata": {
        "id": "view-in-github",
        "colab_type": "text"
      },
      "source": [
        "<a href=\"https://colab.research.google.com/github/anagvillanueva/DisenoyAnalisisDeAlgoritmos/blob/master/24Noviembre.ipynb\" target=\"_parent\"><img src=\"https://colab.research.google.com/assets/colab-badge.svg\" alt=\"Open In Colab\"/></a>"
      ]
    },
    {
      "cell_type": "code",
      "metadata": {
        "colab": {
          "base_uri": "https://localhost:8080/"
        },
        "id": "xxpQEjGSxt9j",
        "outputId": "d301e265-eb2a-4dfb-e41f-11a0ac00ad5f"
      },
      "source": [
        "#Buscar el elemento mas grande dentro de un array\n",
        "\n",
        "def maximo_recursivo(data):\n",
        "    if len(data) == 2:\n",
        "        return data[0] if data[0]> data[1] else data[1]\n",
        "    if len(data) == 1:\n",
        "        return data[0]\n",
        "    else :\n",
        "        mid = len(data) // 2\n",
        "        I= maximo_recursivo(data[:mid:])\n",
        "        D = maximo_recursivo(data [mid::])\n",
        "        return I if I > D else D \n",
        "\n",
        "info = [2,3,1,13,44,12,323,45,23,54,63,21,4,5,33,75]\n",
        "print(maximo_recursivo(info))"
      ],
      "execution_count": 1,
      "outputs": [
        {
          "output_type": "stream",
          "name": "stdout",
          "text": [
            "323\n"
          ]
        }
      ]
    }
  ]
}