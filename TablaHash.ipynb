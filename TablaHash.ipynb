{
  "nbformat": 4,
  "nbformat_minor": 0,
  "metadata": {
    "colab": {
      "name": "Untitled2.ipynb",
      "provenance": [],
      "authorship_tag": "ABX9TyO47MaiYHmAMxLsE4j1fl3U",
      "include_colab_link": true
    },
    "kernelspec": {
      "name": "python3",
      "display_name": "Python 3"
    },
    "language_info": {
      "name": "python"
    }
  },
  "cells": [
    {
      "cell_type": "markdown",
      "metadata": {
        "id": "view-in-github",
        "colab_type": "text"
      },
      "source": [
        "<a href=\"https://colab.research.google.com/github/anagvillanueva/DisenoyAnalisisDeAlgoritmos/blob/master/TablaHash.ipynb\" target=\"_parent\"><img src=\"https://colab.research.google.com/assets/colab-badge.svg\" alt=\"Open In Colab\"/></a>"
      ]
    },
    {
      "cell_type": "code",
      "source": [
        "class tablaHash:\n",
        "    def __init__(self):\n",
        "        self.size = 23\n",
        "        self.slots = [None] * self.size\n",
        "        self.data = [None] * self.size\n",
        "\n",
        "    def funcionHash(self,key,value,c):\n",
        "         key = 0\n",
        "         for i in range(0,len(value)):\n",
        "            key += ord(value[i])\n",
        "         return key % 23\n",
        "\n",
        "    def insertar(self,key,value,c): \n",
        "        hash = self.funcionHash(value)\n",
        "        if self.size[hash] is None:\n",
        "            self.size[hash] = value\n",
        "   \n",
        "\n",
        "tablaH= tablaHash()\n",
        "tablaH.insertar(415, 'Fresa') \n",
        "tablaH.insertar(520, 'Manzana') \n",
        "tablaH.insertar(40, 'Platano') \n",
        "tablaH.insertar(123, 'Coco') \n",
        "tablaH.insertar(23, 'Elote') "
      ],
      "metadata": {
        "id": "KxZEoaEuCFBd"
      },
      "execution_count": null,
      "outputs": []
    }
  ]
}