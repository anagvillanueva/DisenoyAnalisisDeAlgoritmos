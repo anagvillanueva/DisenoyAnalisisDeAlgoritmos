{
  "nbformat": 4,
  "nbformat_minor": 0,
  "metadata": {
    "colab": {
      "name": "Programa1.ipynb",
      "provenance": [],
      "authorship_tag": "ABX9TyOlErxJ5B/2rT4JofzqYT0z",
      "include_colab_link": true
    },
    "kernelspec": {
      "name": "python3",
      "display_name": "Python 3"
    },
    "language_info": {
      "name": "python"
    }
  },
  "cells": [
    {
      "cell_type": "markdown",
      "metadata": {
        "id": "view-in-github",
        "colab_type": "text"
      },
      "source": [
        "<a href=\"https://colab.research.google.com/github/anagvillanueva/DisenoyAnalisisDeAlgoritmos/blob/master/Programa1.ipynb\" target=\"_parent\"><img src=\"https://colab.research.google.com/assets/colab-badge.svg\" alt=\"Open In Colab\"/></a>"
      ]
    },
    {
      "cell_type": "code",
      "execution_count": 1,
      "metadata": {
        "colab": {
          "base_uri": "https://localhost:8080/"
        },
        "id": "_8j4C0hXVQNw",
        "outputId": "3e1725db-18a4-4e12-f1c7-99039afed5d1"
      },
      "outputs": [
        {
          "output_type": "stream",
          "name": "stdout",
          "text": [
            "Numero de veces que aparece la palabra UNAM:  2\n",
            "Numero de veces que aparece la palabra la:  1\n",
            "Numero de veces que aparece la palabra mejor:  1\n",
            "Numero de veces que aparece la palabra escuela:  1\n",
            "Numero de veces que aparece la palabra UNAM:  2\n"
          ]
        }
      ],
      "source": [
        "# -*- coding: utf-8 -*-\n",
        "\"\"\"\n",
        "Created on Fri Dec 10 09:33:41 2021\n",
        "\n",
        "@author: PC\n",
        "\"\"\"\n",
        "\n",
        "def conteo(entrada):\n",
        "    en = entrada.split()\n",
        "    for i in en:\n",
        "        cont = 0\n",
        "\n",
        "        for n in en: \n",
        "            if i == n:\n",
        "                cont += 1\n",
        "        print(f'Numero de veces que aparece la palabra {i}: ', cont)\n",
        "\n",
        "\n",
        "\n",
        "entrada = \"UNAM la mejor escuela UNAM\"\n",
        "conteo(entrada)"
      ]
    }
  ]
}